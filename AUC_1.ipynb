{
 "cells": [
  {
   "cell_type": "code",
   "execution_count": 7,
   "metadata": {
    "collapsed": true
   },
   "outputs": [],
   "source": [
    "# import necessary modules\n",
    "import numpy as np\n",
    "import matplotlib.pyplot as plt\n",
    "import pandas as pd\n",
    "from pandas import DataFrame\n",
    "%matplotlib inline"
   ]
  },
  {
   "cell_type": "code",
   "execution_count": 48,
   "metadata": {
    "collapsed": true
   },
   "outputs": [],
   "source": [
    "def AUC(in_data):\n",
    "    '''\n",
    "    Function to calculate the area under an ROC curve \n",
    "    Input: a DataFrame with actual class label and scores\n",
    "    Output: A, the area under the ROC curve. 0<A<1.0 \n",
    "    '''\n",
    "    ## sort the input data in descending order\n",
    "    dat=in_data.sort(['score'],ascending=False)\n",
    "    ## compute # of positive labels and negative labels\n",
    "    P=dat.label[dat.label==1].count()\n",
    "    N=dat.label[dat.label==0].count()\n",
    "    \n",
    "    ## initialize tp and fp to 0\n",
    "    tp=0\n",
    "    fp=0\n",
    "    \n",
    "    ## initialize previous tp and fp to -inf\n",
    "    tp_prev=0\n",
    "    fp_prev=0\n",
    "    \n",
    "    ## initialize the AUC score to 0\n",
    "    A = 0\n",
    "    \n",
    "    ## initialize previous score to -inf\n",
    "    f_prev=-np.inf\n",
    "    \n",
    "    def TRAPEZOID_AREA(x1,x2,y1,y2):\n",
    "        '''\n",
    "        Function to calculate the trapezoid area  \n",
    "        Input: four vertex of the trapezoid \n",
    "        Output: the area of the trapezoid\n",
    "        '''\n",
    "        base = abs(x1-x2)\n",
    "        height = (y1+y2)/2\n",
    "        return base*height\n",
    "    \n",
    "    ## compute ROC points increasing by fp rate\n",
    "    for i in range(dat.shape[0]):\n",
    "        if dat.score[i]!=f_prev:\n",
    "            A += TRAPEZOID_AREA(fp,fp_prev,tp,tp_prev)\n",
    "            f_prev = dat.score[i]\n",
    "            fp_prev = fp\n",
    "            tp_prev = tp\n",
    "               \n",
    "        if dat.label[i]==1:\n",
    "            tp+=1\n",
    "        else:\n",
    "            fp+=1\n",
    "    \n",
    "    A = A+TRAPEZOID_AREA(N,fp_prev,N,tp_prev)\n",
    "    A = A/(P*N) # scale from P · N onto the unit square\n",
    "    \n",
    "    return A"
   ]
  },
  {
   "cell_type": "code",
   "execution_count": 49,
   "metadata": {
    "collapsed": true
   },
   "outputs": [],
   "source": [
    "# test sample\n",
    "# Figure 3 in Fawcett 2006\n",
    "# class label=1: positive, label=0: negative\n",
    "instance=np.array(range(20))\n",
    "class_lable=np.array([1,1,0,1,1,1,0,0,1,0,1,0,1,0,0,0,1,0,1,0])\n",
    "score_=np.array([0.9,0.8,0.7,0.6,0.55,0.54,0.53,0.52,0.51,0.505,0.4,0.39,0.38,0.37,0.36,0.35,0.34,0.33,0.30,0.1])\n",
    "temp={'ID':instance,'label':class_lable,'score':score_}\n",
    "\n",
    "# put them together as a matrix\n",
    "dat_test=pd.DataFrame(data=temp,index=range(len(instance)),columns=['ID','label','score'])"
   ]
  },
  {
   "cell_type": "code",
   "execution_count": 50,
   "metadata": {
    "collapsed": false
   },
   "outputs": [
    {
     "data": {
      "text/plain": [
       "0.68000000000000005"
      ]
     },
     "execution_count": 50,
     "metadata": {},
     "output_type": "execute_result"
    }
   ],
   "source": [
    "AUC(dat_test)"
   ]
  }
 ],
 "metadata": {
  "kernelspec": {
   "display_name": "Python 3",
   "language": "python",
   "name": "python3"
  },
  "language_info": {
   "codemirror_mode": {
    "name": "ipython",
    "version": 3
   },
   "file_extension": ".py",
   "mimetype": "text/x-python",
   "name": "python",
   "nbconvert_exporter": "python",
   "pygments_lexer": "ipython3",
   "version": "3.4.4"
  }
 },
 "nbformat": 4,
 "nbformat_minor": 0
}
