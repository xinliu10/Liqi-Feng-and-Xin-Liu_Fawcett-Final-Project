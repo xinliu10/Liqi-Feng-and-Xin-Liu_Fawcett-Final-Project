{
 "cells": [
  {
   "cell_type": "markdown",
   "metadata": {},
   "source": [
    "### Implementation of the efficient algorithm for generating ROC points\n",
    "- Algorithm 1 in paper by *Fawcett 2006*"
   ]
  },
  {
   "cell_type": "code",
   "execution_count": 2,
   "metadata": {
    "collapsed": false
   },
   "outputs": [],
   "source": [
    "# import necessary modules\n",
    "import numpy as np\n",
    "import matplotlib.pyplot as plt\n",
    "%matplotlib inline"
   ]
  },
  {
   "cell_type": "code",
   "execution_count": null,
   "metadata": {
    "collapsed": true
   },
   "outputs": [],
   "source": [
    "def ROC_points(in_data):\n",
    "    '''\n",
    "    Function to generate ROC points for a bianry classifier on a given sample set with true lables and scores\n",
    "    Input: a matrix with actual class label and scores\n",
    "    Output:ROC points (tp rate, fp rate)\n",
    "    '''\n",
    "    ## sort the input data in descending order\n",
    "    \n",
    "    \n",
    "    return"
   ]
  },
  {
   "cell_type": "code",
   "execution_count": 11,
   "metadata": {
    "collapsed": true
   },
   "outputs": [],
   "source": [
    "# test sample\n",
    "# Figure 3 in Fawcett 2006\n",
    "# class label=1: positive, label=0: negative\n",
    "instance=np.array(range(20))\n",
    "class_lable=np.array([1,1,0,1,1,1,0,0,1,0,1,0,1,0,0,0,1,0,1,0])\n",
    "score_=np.array([0.9,0.8,0.7,0.6,0.55,0.54,0.53,0.52,0.51,0.505,0.4,0.39,0.38,0.37,0.36,0.35,0.34,0.33,0.30,0.1])\n",
    "\n",
    "\n",
    "# put them together as a matrix\n",
    "dat_test=np.vstack((instance,class_lable,score_)).T"
   ]
  },
  {
   "cell_type": "code",
   "execution_count": 14,
   "metadata": {
    "collapsed": false
   },
   "outputs": [
    {
     "data": {
      "text/plain": [
       "array([[ 0.  ,  1.  ,  0.9 ],\n",
       "       [ 1.  ,  1.  ,  0.8 ],\n",
       "       [ 2.  ,  0.  ,  0.7 ],\n",
       "       [ 3.  ,  1.  ,  0.6 ],\n",
       "       [ 4.  ,  1.  ,  0.55]])"
      ]
     },
     "execution_count": 14,
     "metadata": {},
     "output_type": "execute_result"
    }
   ],
   "source": [
    "dat_test[:5,:]"
   ]
  },
  {
   "cell_type": "code",
   "execution_count": null,
   "metadata": {
    "collapsed": true
   },
   "outputs": [],
   "source": []
  }
 ],
 "metadata": {
  "kernelspec": {
   "display_name": "Python 3",
   "language": "python",
   "name": "python3"
  },
  "language_info": {
   "codemirror_mode": {
    "name": "ipython",
    "version": 3
   },
   "file_extension": ".py",
   "mimetype": "text/x-python",
   "name": "python",
   "nbconvert_exporter": "python",
   "pygments_lexer": "ipython3",
   "version": "3.5.1"
  }
 },
 "nbformat": 4,
 "nbformat_minor": 0
}
